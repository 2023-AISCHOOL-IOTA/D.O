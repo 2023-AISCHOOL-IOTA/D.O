{
 "cells": [
  {
   "cell_type": "code",
   "execution_count": 1,
   "id": "fb810567",
   "metadata": {},
   "outputs": [],
   "source": [
    "# 필요 라이브러리 호출\n",
    "import pandas as pd    \n",
    "import json\n",
    "import collections"
   ]
  },
  {
   "cell_type": "code",
   "execution_count": 2,
   "id": "6a2b50fc",
   "metadata": {},
   "outputs": [],
   "source": [
    "# 엑셀 파일을 읽어오기\n",
    "df = pd.read_excel(\"C:\\\\Users\\\\gjaischool\\\\Desktop\\\\A 음식점(15,726).xlsx\", engine=\"openpyxl\") # openpyxl엔진을 쓰겠다."
   ]
  },
  {
   "cell_type": "code",
   "execution_count": 3,
   "id": "6227522e",
   "metadata": {},
   "outputs": [],
   "source": [
    "# '지식베이스' 컬럼의 데이터를 가져오고 ','를 기준으로 분할\n",
    "knowledge_base_data = df['지식베이스'].str.split(',', expand=True) # 지식베이스 컬럼의 데이터 가져오고 ',' 기준 분할"
   ]
  },
  {
   "cell_type": "code",
   "execution_count": 4,
   "id": "4a68b3e2",
   "metadata": {},
   "outputs": [],
   "source": [
    "# 데이터를 리스트로 구조화\n",
    "knowledge_base_list = []    # 빈 리스트 생성\n",
    "for idx, row in knowledge_base_data.iterrows(): # idx는 행의 인덱스 row는 해당 행의 데이터  iterrows()는 각 행에 대해 반복적 작업\n",
    "    values = [value.strip() for value in row if pd.notna(value)] # 각 행에서 value 값을 가져와서 해당 값이 NaN이 아닌 경우에 작업수행\n",
    "    if values: # values 가 있다면\n",
    "        knowledge_base_list.extend(values) # 각 행에서 추출한 데이터를 values 리스트에 저장하고 knowledge_base_List에 이어 붙임\n",
    "                                           # 결국 knowledge_base_list 는 모든행에서 추출된 데이터의 모음"
   ]
  },
  {
   "cell_type": "code",
   "execution_count": 5,
   "id": "46ae0701",
   "metadata": {},
   "outputs": [],
   "source": [
    "# '/' 뒤의 정보를 그룹화하고 중복 제거\n",
    "grouped_data = collections.defaultdict(set) # collections.defaultdict(set) 존재하지 않는 키에 대한 디폴트 값을 빈 집합(set)으로 설정\n",
    "                                            # 각 키마다 연결된 값을 저장하기 위해서\n",
    "for item in knowledge_base_list:      # knowledge_base_list idem 하나씩 반복\n",
    "    parts = item.split('/')           # / 기준 문자 나눠서 parts 에 저장\n",
    "    for i in range(1, len(parts)):    # 1부터 parts 끝까지 반복\n",
    "        key = '/'.join(parts[i:])  # '/' 뒤의 모든 정보를 포함한 문자열을 키로 사용\n",
    "        grouped_data[key].add(parts[0])  # '/' 앞의 정보를 사용하여 그룹화"
   ]
  },
  {
   "cell_type": "code",
   "execution_count": 7,
   "id": "f5a8989c",
   "metadata": {},
   "outputs": [],
   "source": [
    "# 중복을 제거하고 JSON 파일로 저장\n",
    "grouped_data_no_duplicates = {k: list(v) for k, v in grouped_data.items()} # list(v) 의 v가 set(집합)이여서 중복을 제거해주는 역할을 함\n",
    "with open('knowledge_base_grouped_without_suffix_no_duplicates2.json', 'w', encoding='utf-8') as f:\n",
    "    json.dump(grouped_data_no_duplicates, f, ensure_ascii=False, indent=4)"
   ]
  },
  {
   "cell_type": "code",
   "execution_count": null,
   "id": "1810a505",
   "metadata": {},
   "outputs": [],
   "source": []
  }
 ],
 "metadata": {
  "kernelspec": {
   "display_name": "Python 3 (ipykernel)",
   "language": "python",
   "name": "python3"
  },
  "language_info": {
   "codemirror_mode": {
    "name": "ipython",
    "version": 3
   },
   "file_extension": ".py",
   "mimetype": "text/x-python",
   "name": "python",
   "nbconvert_exporter": "python",
   "pygments_lexer": "ipython3",
   "version": "3.10.9"
  }
 },
 "nbformat": 4,
 "nbformat_minor": 5
}
