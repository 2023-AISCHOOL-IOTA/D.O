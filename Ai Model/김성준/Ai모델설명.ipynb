{
 "cells": [
  {
   "cell_type": "markdown",
   "id": "21399252-f912-4f2f-b5c9-fac400d3245a",
   "metadata": {},
   "source": [
    "## 딥러닝\n",
    "- 정의 : 인간의 뇌가 작동하는 방식을 모방한 인공신경망을 사용해 학습하는 기술\n",
    "- 신경망 : 핵심 요소는 인공신경망(neural network)\n",
    "    - 신경망은 입력층, 은닉층, 출력층으로 구성\n",
    "        - 각 층은 또 뉴런으로 구성 / 이 뉴런들은 가중치와 편항을 통해 서로 연결됨\n",
    "- 학습과정 : 데이터를 받고 가중치를 조정하며 학습 -> 손실 함수를 최소화 하는 방향으로"
   ]
  },
  {
   "cell_type": "markdown",
   "id": "ca90dceb-e74e-4d27-a659-eb2eaa20f6d3",
   "metadata": {},
   "source": [
    "## PyTorch\n",
    "- Python기반 오픈소스 딥러닝 라이브러리\n",
    "- 특징\n",
    "    - 텐서 연산 : 뒤에 설명\n",
    "    - 자동 미분 시스템 : 그레디언트(기울기) 계산 용이"
   ]
  },
  {
   "cell_type": "markdown",
   "id": "8d5915ae-ef79-4dcb-aef6-1fde0688fbb6",
   "metadata": {},
   "source": [
    "## 기본 개념 설명\n",
    "- 텐서(Tensor)\n",
    "    - 정의 : 딥러닝에서 데이터를 표현하는 기본 단위, 벡터와 행렬, PT에서는 다차원배열"
   ]
  },
  {
   "cell_type": "code",
   "execution_count": 16,
   "id": "668c84dd-f391-4fac-98f7-a45ddf874cd8",
   "metadata": {},
   "outputs": [
    {
     "name": "stdout",
     "output_type": "stream",
     "text": [
      "tensor([1, 2, 3])\n",
      "tensor([[1],\n",
      "        [2]])\n",
      "tensor([[1, 2],\n",
      "        [3, 4]])\n"
     ]
    }
   ],
   "source": [
    "import torch\n",
    "v = torch.tensor([1,2,3])\n",
    "c = torch.tensor([[1],[2]]) # 주의 torch.tensor([1],[2])이건 실행이 안됨\n",
    "m = torch.tensor([[1,2],[3,4]])\n",
    "print(v)\n",
    "print(c)\n",
    "print(m)"
   ]
  },
  {
   "cell_type": "markdown",
   "id": "36d3ac45-7e8b-4372-ad90-ad6b7275fa13",
   "metadata": {},
   "source": [
    "- 신경망 구조\n",
    "    - 여러 레이어로 구성\n",
    "    - 신경망의 비선형성을 도입하기 위해 사용되는 활성화 함수 (ReLU)"
   ]
  },
  {
   "cell_type": "code",
   "execution_count": 12,
   "id": "babc5e5a-b958-455d-9bf7-21d2f0c1e972",
   "metadata": {},
   "outputs": [],
   "source": [
    "# 간단한 신경망 함수 모델 정의\n",
    "\n",
    "import torch.nn as nn\n",
    "import torch.nn.functional as F\n",
    "\n",
    "class SimpleNet(nn.Module):\n",
    "    def __init__(self):\n",
    "        super(SimpleNet, self).__init__()\n",
    "        self.fc1 = nn.Linear(3,3) # 첫 번째 선형 레이어 : nn.Linear(입력, 출력) \n",
    "\n",
    "    def forward(self, x):\n",
    "        x = F.relu(self.fc1(x)) # 활성화 함수 relu 적용\n",
    "        return x\n"
   ]
  },
  {
   "cell_type": "code",
   "execution_count": 13,
   "id": "4581343b-eb15-4a1d-a18d-65c8a0d4b996",
   "metadata": {},
   "outputs": [],
   "source": [
    "model = SimpleNet()"
   ]
  },
  {
   "cell_type": "code",
   "execution_count": 14,
   "id": "132d60e0-5613-4b9e-a1eb-df56f496c499",
   "metadata": {},
   "outputs": [
    {
     "data": {
      "text/plain": [
       "SimpleNet(\n",
       "  (fc1): Linear(in_features=3, out_features=3, bias=True)\n",
       ")"
      ]
     },
     "execution_count": 14,
     "metadata": {},
     "output_type": "execute_result"
    }
   ],
   "source": [
    "model"
   ]
  },
  {
   "cell_type": "code",
   "execution_count": 15,
   "id": "3aa1c9b2-dc4d-463a-9c14-3e10265cd909",
   "metadata": {},
   "outputs": [],
   "source": [
    "# 손실함수와 옵티마이저 설정\n",
    "\n",
    "criterion = nn.MSELoss() # 평균제곱오차 손실함수\n",
    "optimizer = torch.optim.SGD(model.parameters(), lr=0.001) # SGD 옵티마이저"
   ]
  },
  {
   "cell_type": "markdown",
   "id": "33ebf20e-59eb-4bb8-b546-d478cfe36f14",
   "metadata": {},
   "source": [
    "## PyTorch 기본 사용법\n",
    "- Tensor 생성 및 조작"
   ]
  },
  {
   "cell_type": "code",
   "execution_count": 1,
   "id": "3c74768d-b549-4b91-a111-5d870b930d6a",
   "metadata": {},
   "outputs": [
    {
     "name": "stdout",
     "output_type": "stream",
     "text": [
      "tensor([5, 7, 9])\n"
     ]
    }
   ],
   "source": [
    "import torch\n",
    "\n",
    "x = torch.tensor([1,2,3])\n",
    "y = torch.tensor([4,5,6])\n",
    "\n",
    "z = x + y\n",
    "print(z)"
   ]
  },
  {
   "cell_type": "markdown",
   "id": "36203efc-85a4-41ac-a6d1-2ebf3dd89406",
   "metadata": {},
   "source": [
    "- 간단한 모델 구축 및 학습"
   ]
  },
  {
   "cell_type": "code",
   "execution_count": 2,
   "id": "9004917d-1804-4378-b3a1-dc8fcb347b7a",
   "metadata": {},
   "outputs": [
    {
     "name": "stdout",
     "output_type": "stream",
     "text": [
      "Epoch [10/100], Loss: 1.8843\n",
      "Epoch [20/100], Loss: 0.2486\n",
      "Epoch [30/100], Loss: 0.0895\n",
      "Epoch [40/100], Loss: 0.0713\n",
      "Epoch [50/100], Loss: 0.0666\n",
      "Epoch [60/100], Loss: 0.0634\n",
      "Epoch [70/100], Loss: 0.0604\n",
      "Epoch [80/100], Loss: 0.0575\n",
      "Epoch [90/100], Loss: 0.0548\n",
      "Epoch [100/100], Loss: 0.0523\n"
     ]
    }
   ],
   "source": [
    "import torch.nn as nn\n",
    "import torch.optim as optim\n",
    "\n",
    "class LinearRegressionModel(nn.Module): \n",
    "    def __init__(self):   # 모델 초기화 : 가중치 편향을 무작위로 시작\n",
    "        super(LinearRegressionModel, self).__init__()\n",
    "        self.linear = nn.Linear(1, 1)  # 하나의 입력과 출력을 가짐\n",
    "\n",
    "    def forward(self, x):\n",
    "        return self.linear(x)\n",
    "\n",
    "# 모델 및 손실 함수, 옵티마이저 초기화\n",
    "model = LinearRegressionModel()\n",
    "criterion = nn.MSELoss()  # 평균 제곱 오차 손실\n",
    "optimizer = optim.SGD(model.parameters(), lr=0.01)  # 확률적 경사 하강법\n",
    "\n",
    "# 간단한 데이터셋\n",
    "inputs = torch.tensor([[1.], [2.], [3.]])   # 숫자뒤에 .을 왜붙힐까? : 머신러닝모델에서는 대부분 연산이 실수기반이라서\n",
    "targets = torch.tensor([[2.], [4.], [6.]])\n",
    "# 즉 둘 사이의 관계는 y=2x 가중치가 2인 선형함수\n",
    "\n",
    "# 학습 루프\n",
    "for epoch in range(100):  # 에포크 수\n",
    "    optimizer.zero_grad()  # 그레이디언트 초기화\n",
    "    outputs = model(inputs)  # 모델의 출력 계산\n",
    "    loss = criterion(outputs, targets)  # 손실 계산\n",
    "    loss.backward()  # 역전파\n",
    "    optimizer.step()  # 가중치 갱신\n",
    "\n",
    "    if (epoch+1) % 10 == 0:\n",
    "        print(f'Epoch [{epoch+1}/100], Loss: {loss.item():.4f}')"
   ]
  },
  {
   "cell_type": "code",
   "execution_count": 10,
   "id": "45ad48a7-15d5-4147-88ab-42aeea0b507a",
   "metadata": {},
   "outputs": [
    {
     "data": {
      "text/plain": [
       "(tensor([[1.],\n",
       "         [2.],\n",
       "         [3.]]),\n",
       " tensor([[2.],\n",
       "         [4.],\n",
       "         [6.]]),\n",
       " LinearRegressionModel(\n",
       "   (linear): Linear(in_features=1, out_features=1, bias=True)\n",
       " ))"
      ]
     },
     "execution_count": 10,
     "metadata": {},
     "output_type": "execute_result"
    }
   ],
   "source": [
    "inputs, targets, model"
   ]
  },
  {
   "cell_type": "code",
   "execution_count": 11,
   "id": "88180e0c-e279-4ce5-b7d7-5271c474c6af",
   "metadata": {},
   "outputs": [
    {
     "data": {
      "text/plain": [
       "tensor([[2.3380],\n",
       "        [4.0725],\n",
       "        [5.8070]], grad_fn=<AddmmBackward0>)"
      ]
     },
     "execution_count": 11,
     "metadata": {},
     "output_type": "execute_result"
    }
   ],
   "source": [
    "outputs"
   ]
  },
  {
   "cell_type": "markdown",
   "id": "14effaf0-58f2-49b1-b947-e85fc925b78b",
   "metadata": {},
   "source": [
    "## 모델 예측 및 평가\n",
    "- 예측\n"
   ]
  },
  {
   "cell_type": "code",
   "execution_count": 3,
   "id": "7b5726f5-7502-4e74-adf4-05e9c7ca4bb7",
   "metadata": {},
   "outputs": [
    {
     "name": "stdout",
     "output_type": "stream",
     "text": [
      "Prediction: 7.542591571807861\n"
     ]
    }
   ],
   "source": [
    "model.eval()  # 평가 모드로 전환\n",
    "with torch.no_grad():  # 그레이디언트 계산 비활성화\n",
    "    new_input = torch.tensor([[4.]])\n",
    "    prediction = model(new_input)\n",
    "    print(f\"Prediction: {prediction.item()}\")"
   ]
  },
  {
   "cell_type": "markdown",
   "id": "59571787-f314-4251-84de-30ce502d7dbd",
   "metadata": {},
   "source": [
    "- 모델 성능 평가"
   ]
  },
  {
   "cell_type": "code",
   "execution_count": 4,
   "id": "51ebf330-dd3d-4556-9694-8de7a6b42c6a",
   "metadata": {},
   "outputs": [
    {
     "name": "stdout",
     "output_type": "stream",
     "text": [
      "Validation Loss: 0.568464994430542\n"
     ]
    }
   ],
   "source": [
    "# 성능 평가를 위한 검증 데이터셋\n",
    "val_inputs = torch.tensor([[4.], [5.], [6.]])\n",
    "val_targets = torch.tensor([[8.], [10.], [12.]])\n",
    "\n",
    "model.eval()  # 평가 모드로 전환\n",
    "with torch.no_grad():  # 그레이디언트 계산 비활성화\n",
    "    val_outputs = model(val_inputs)\n",
    "    val_loss = criterion(val_outputs, val_targets)\n",
    "    print(f\"Validation Loss: {val_loss.item()}\")"
   ]
  },
  {
   "cell_type": "code",
   "execution_count": null,
   "id": "ef61ff68-bba1-459e-9efa-aa7691012cca",
   "metadata": {},
   "outputs": [],
   "source": []
  }
 ],
 "metadata": {
  "kernelspec": {
   "display_name": "sj",
   "language": "python",
   "name": "sj"
  },
  "language_info": {
   "codemirror_mode": {
    "name": "ipython",
    "version": 3
   },
   "file_extension": ".py",
   "mimetype": "text/x-python",
   "name": "python",
   "nbconvert_exporter": "python",
   "pygments_lexer": "ipython3",
   "version": "3.10.12"
  }
 },
 "nbformat": 4,
 "nbformat_minor": 5
}
