{
 "cells": [
  {
   "cell_type": "code",
   "execution_count": 1,
   "id": "365334a5-60a7-40e6-830a-e4e0d8b2ddf0",
   "metadata": {},
   "outputs": [
    {
     "name": "stdout",
     "output_type": "stream",
     "text": [
      "Requirement already satisfied: umap-learn in /home/ubuntu/.local/lib/python3.10/site-packages (0.5.5)\n",
      "Requirement already satisfied: numpy>=1.17 in /home/ubuntu/.local/lib/python3.10/site-packages (from umap-learn) (1.26.2)\n",
      "Requirement already satisfied: scipy>=1.3.1 in /home/ubuntu/.local/lib/python3.10/site-packages (from umap-learn) (1.11.4)\n",
      "Requirement already satisfied: scikit-learn>=0.22 in /home/ubuntu/.local/lib/python3.10/site-packages (from umap-learn) (1.3.2)\n",
      "Requirement already satisfied: numba>=0.51.2 in /home/ubuntu/.local/lib/python3.10/site-packages (from umap-learn) (0.58.1)\n",
      "Requirement already satisfied: pynndescent>=0.5 in /home/ubuntu/.local/lib/python3.10/site-packages (from umap-learn) (0.5.11)\n",
      "Requirement already satisfied: tqdm in /home/ubuntu/.local/lib/python3.10/site-packages (from umap-learn) (4.66.1)\n",
      "Requirement already satisfied: llvmlite<0.42,>=0.41.0dev0 in /home/ubuntu/.local/lib/python3.10/site-packages (from numba>=0.51.2->umap-learn) (0.41.1)\n",
      "Requirement already satisfied: joblib>=0.11 in /home/ubuntu/.local/lib/python3.10/site-packages (from pynndescent>=0.5->umap-learn) (1.3.2)\n",
      "Requirement already satisfied: threadpoolctl>=2.0.0 in /home/ubuntu/.local/lib/python3.10/site-packages (from scikit-learn>=0.22->umap-learn) (3.2.0)\n",
      "Note: you may need to restart the kernel to use updated packages.\n"
     ]
    }
   ],
   "source": [
    "pip install umap-learn"
   ]
  },
  {
   "cell_type": "code",
   "execution_count": 2,
   "id": "e90c878d-7c89-44e8-87ee-861593aab705",
   "metadata": {},
   "outputs": [
    {
     "name": "stderr",
     "output_type": "stream",
     "text": [
      "2023-11-30 18:48:13.605907: I tensorflow/core/util/port.cc:110] oneDNN custom operations are on. You may see slightly different numerical results due to floating-point round-off errors from different computation orders. To turn them off, set the environment variable `TF_ENABLE_ONEDNN_OPTS=0`.\n",
      "2023-11-30 18:48:13.658123: I tensorflow/core/platform/cpu_feature_guard.cc:182] This TensorFlow binary is optimized to use available CPU instructions in performance-critical operations.\n",
      "To enable the following instructions: AVX2 AVX512F AVX512_VNNI AVX512_BF16 AVX_VNNI FMA, in other operations, rebuild TensorFlow with the appropriate compiler flags.\n"
     ]
    }
   ],
   "source": [
    "import pandas as pd\n",
    "from sentence_transformers import SentenceTransformer, losses, InputExample\n",
    "from torch.utils.data import DataLoader\n",
    "import umap\n",
    "import matplotlib.pyplot as plt\n",
    "from transformers import BertTokenizerFast, BertModel\n",
    "from sentence_transformers import SentenceTransformer, losses, InputExample\n",
    "from torch.utils.data import DataLoader\n",
    "import torch\n",
    "from tqdm import tqdm"
   ]
  },
  {
   "cell_type": "code",
   "execution_count": 68,
   "id": "c59ed1e1-997d-49f2-96ff-9e0d45b03ad6",
   "metadata": {},
   "outputs": [],
   "source": [
    "# 데이터 로드\n",
    "in_domain = pd.read_csv('indomain_food2.csv')  # in_domain 데이터\n",
    "ood = pd.read_csv('ood_hospital2.csv')  # out_of_domain 데이터"
   ]
  },
  {
   "cell_type": "code",
   "execution_count": 69,
   "id": "b875c1b1-3989-440e-9a72-29e8dd8f5e37",
   "metadata": {},
   "outputs": [],
   "source": [
    "in_domain = in_domain.iloc[:100000]\n",
    "ood = ood.iloc[:100000]"
   ]
  },
  {
   "cell_type": "code",
   "execution_count": 70,
   "id": "647652d5-b680-4a45-bf40-22e31329e381",
   "metadata": {},
   "outputs": [
    {
     "name": "stderr",
     "output_type": "stream",
     "text": [
      "The following encoder weights were not tied to the decoder ['bert/pooler']\n",
      "The following encoder weights were not tied to the decoder ['bert/pooler']\n",
      "The following encoder weights were not tied to the decoder ['bert/pooler']\n",
      "The following encoder weights were not tied to the decoder ['bert/pooler']\n"
     ]
    }
   ],
   "source": [
    "from transformers import EncoderDecoderModel, BertTokenizerFast\n",
    "from sentence_transformers import SentenceTransformer, models\n",
    "\n",
    "# Load the full Encoder-Decoder model\n",
    "full_model = EncoderDecoderModel.from_pretrained('kykim/bertshared-kor-base')\n",
    "\n",
    "# Extract the Encoder part and save it\n",
    "encoder = full_model.encoder\n",
    "encoder.save_pretrained('kykim/bertshared-kor-base-encoder')\n",
    "\n",
    "# Save the corresponding tokenizer as well\n",
    "tokenizer = BertTokenizerFast.from_pretrained('kykim/bertshared-kor-base')\n",
    "tokenizer.save_pretrained('kykim/bertshared-kor-base-encoder')\n",
    "\n",
    "# Now you can use the Encoder part with Sentence-Transformers\n",
    "word_embedding_model = models.Transformer('kykim/bertshared-kor-base-encoder')\n",
    "\n",
    "# Apply mean pooling to get one fixed sized sentence vector\n",
    "pooling_model = models.Pooling(word_embedding_model.get_word_embedding_dimension(),\n",
    "                               pooling_mode_mean_tokens=True,\n",
    "                               pooling_mode_cls_token=False,\n",
    "                               pooling_mode_max_tokens=False)\n",
    "\n",
    "model = SentenceTransformer(modules=[word_embedding_model, pooling_model])\n",
    "\n",
    "# Save the model\n",
    "model.save(\"kykim/bertshared-kor-base-sentence-transformer\")\n",
    "\n",
    "# Load the model\n",
    "model = SentenceTransformer(\"kykim/bertshared-kor-base-sentence-transformer\")\n"
   ]
  },
  {
   "cell_type": "code",
   "execution_count": 71,
   "id": "c140564b-4137-4aea-ac03-a25b512fc43a",
   "metadata": {},
   "outputs": [],
   "source": [
    "# DataLoader 생성\n",
    "train_examples = [InputExample(texts=[anchor, positive, negative]) for anchor, positive, negative in zip(in_domain['발화문'], in_domain['발화문'], ood['발화문'])]\n",
    "train_dataloader = DataLoader(train_examples, shuffle=True, batch_size=16)"
   ]
  },
  {
   "cell_type": "code",
   "execution_count": 72,
   "id": "844575c4-7f17-4fd3-a3cf-cc29f122d546",
   "metadata": {},
   "outputs": [
    {
     "data": {
      "application/vnd.jupyter.widget-view+json": {
       "model_id": "e04c6054155f411cb129e72eb836188c",
       "version_major": 2,
       "version_minor": 0
      },
      "text/plain": [
       "Epoch:   0%|          | 0/10 [00:00<?, ?it/s]"
      ]
     },
     "metadata": {},
     "output_type": "display_data"
    },
    {
     "data": {
      "application/vnd.jupyter.widget-view+json": {
       "model_id": "70b4e82a1292449b9552a9757b40be83",
       "version_major": 2,
       "version_minor": 0
      },
      "text/plain": [
       "Iteration:   0%|          | 0/3158 [00:00<?, ?it/s]"
      ]
     },
     "metadata": {},
     "output_type": "display_data"
    },
    {
     "data": {
      "application/vnd.jupyter.widget-view+json": {
       "model_id": "0872700c1942493b9201fe191cfaa741",
       "version_major": 2,
       "version_minor": 0
      },
      "text/plain": [
       "Iteration:   0%|          | 0/3158 [00:00<?, ?it/s]"
      ]
     },
     "metadata": {},
     "output_type": "display_data"
    },
    {
     "data": {
      "application/vnd.jupyter.widget-view+json": {
       "model_id": "022977a44ea24f2487b7a98a53fa30b2",
       "version_major": 2,
       "version_minor": 0
      },
      "text/plain": [
       "Iteration:   0%|          | 0/3158 [00:00<?, ?it/s]"
      ]
     },
     "metadata": {},
     "output_type": "display_data"
    },
    {
     "data": {
      "application/vnd.jupyter.widget-view+json": {
       "model_id": "bddcf2c88b7b44cf805261269f06557b",
       "version_major": 2,
       "version_minor": 0
      },
      "text/plain": [
       "Iteration:   0%|          | 0/3158 [00:00<?, ?it/s]"
      ]
     },
     "metadata": {},
     "output_type": "display_data"
    },
    {
     "data": {
      "application/vnd.jupyter.widget-view+json": {
       "model_id": "fc74d015468f418b96daee4e4d41be1d",
       "version_major": 2,
       "version_minor": 0
      },
      "text/plain": [
       "Iteration:   0%|          | 0/3158 [00:00<?, ?it/s]"
      ]
     },
     "metadata": {},
     "output_type": "display_data"
    },
    {
     "data": {
      "application/vnd.jupyter.widget-view+json": {
       "model_id": "09a1964a2ccd44458eadf183bb7e5034",
       "version_major": 2,
       "version_minor": 0
      },
      "text/plain": [
       "Iteration:   0%|          | 0/3158 [00:00<?, ?it/s]"
      ]
     },
     "metadata": {},
     "output_type": "display_data"
    },
    {
     "data": {
      "application/vnd.jupyter.widget-view+json": {
       "model_id": "02f90243eb3346e5baf2d2ed531c3a2f",
       "version_major": 2,
       "version_minor": 0
      },
      "text/plain": [
       "Iteration:   0%|          | 0/3158 [00:00<?, ?it/s]"
      ]
     },
     "metadata": {},
     "output_type": "display_data"
    },
    {
     "data": {
      "application/vnd.jupyter.widget-view+json": {
       "model_id": "43ecb4a960b4498a9bbd128588acaca0",
       "version_major": 2,
       "version_minor": 0
      },
      "text/plain": [
       "Iteration:   0%|          | 0/3158 [00:00<?, ?it/s]"
      ]
     },
     "metadata": {},
     "output_type": "display_data"
    },
    {
     "data": {
      "application/vnd.jupyter.widget-view+json": {
       "model_id": "eb3f0e8e90d44280b3564677a145c581",
       "version_major": 2,
       "version_minor": 0
      },
      "text/plain": [
       "Iteration:   0%|          | 0/3158 [00:00<?, ?it/s]"
      ]
     },
     "metadata": {},
     "output_type": "display_data"
    },
    {
     "data": {
      "application/vnd.jupyter.widget-view+json": {
       "model_id": "86607b4e5ec34f5fbbf851224385eab7",
       "version_major": 2,
       "version_minor": 0
      },
      "text/plain": [
       "Iteration:   0%|          | 0/3158 [00:00<?, ?it/s]"
      ]
     },
     "metadata": {},
     "output_type": "display_data"
    }
   ],
   "source": [
    "# TripletLoss 정의 및 모델 학습\n",
    "train_loss = losses.TripletLoss(model=model)\n",
    "model.fit(train_objectives=[(train_dataloader, train_loss)], epochs=10, warmup_steps=100)"
   ]
  },
  {
   "cell_type": "code",
   "execution_count": 73,
   "id": "914f5a6e-dcc9-47fe-9c99-b3af4d8ba8d3",
   "metadata": {},
   "outputs": [],
   "source": [
    "# 임베딩 생성 및 UMAP으로 2차원으로 축소\n",
    "in_domain_embeddings = model.encode(in_domain['발화문'].tolist())\n",
    "ood_embeddings = model.encode(ood['발화문'].tolist())\n",
    "\n",
    "reducer = umap.UMAP()\n",
    "in_domain_embeddings_2d = reducer.fit_transform(in_domain_embeddings)\n",
    "ood_embeddings_2d = reducer.fit_transform(ood_embeddings)"
   ]
  },
  {
   "cell_type": "code",
   "execution_count": 78,
   "id": "2a52891f-3880-4be0-89ea-a0852c2f6605",
   "metadata": {},
   "outputs": [
    {
     "data": {
      "image/png": "[encoded data removed]",
      "text/plain": [
       "<Figure size 500x500 with 1 Axes>"
      ]
     },
     "metadata": {},
     "output_type": "display_data"
    }
   ],
   "source": [
    "# 시각화\n",
    "plt.figure(figsize=(5, 5))\n",
    "plt.scatter(in_domain_embeddings_2d[:, 0], in_domain_embeddings_2d[:, 1], color='blue', label='In-Domain')\n",
    "plt.scatter(ood_embeddings_2d[:, 0], ood_embeddings_2d[:, 1], color='red', label='Out-of-Domain')\n",
    "plt.legend()\n",
    "plt.show()"
   ]
  },
  {
   "cell_type": "code",
   "execution_count": 75,
   "id": "686106d5-7aaf-4387-86e7-34d003e88e3f",
   "metadata": {},
   "outputs": [],
   "source": [
    "from sklearn.neighbors import NearestNeighbors"
   ]
  },
  {
   "cell_type": "code",
   "execution_count": 79,
   "id": "7c68d80a-9af5-4355-b9c1-40ae13bad11e",
   "metadata": {},
   "outputs": [
    {
     "name": "stdout",
     "output_type": "stream",
     "text": [
      " 배달 되나요?\n"
     ]
    },
    {
     "name": "stdout",
     "output_type": "stream",
     "text": [
      "이 쿼리는 in-domain에 더 가깝습니다.\n"
     ]
    }
   ],
   "source": [
    "# Faiss 인덱스 생성\n",
    "def create_nn_index(embeddings):\n",
    "    nn = NearestNeighbors(n_neighbors=1, metric='euclidean')\n",
    "    nn.fit(embeddings)\n",
    "    return nn\n",
    "\n",
    "# 가장 가까운 이웃 찾기\n",
    "def find_nearest_neighbor(query_embedding, nn):\n",
    "    distances, indices = nn.kneighbors(query_embedding)\n",
    "    return distances, indices\n",
    "\n",
    "def get_query_embedding(query):\n",
    "    query_embedding = model.encode([query])[0]  # 쿼리를 임베딩하고, 결과를 2차원 배열에서 1차원 배열로 변환\n",
    "    return query_embedding.reshape(1, -1)  # 임베딩을 2차원 배열로 변환\n",
    "\n",
    "\n",
    "# 인덱스 생성\n",
    "in_domain_index = create_nn_index(in_domain_embeddings)\n",
    "ood_index = create_nn_index(ood_embeddings)\n",
    "\n",
    "# 쿼리\n",
    "query = input()\n",
    "query_embedding = get_query_embedding(query)\n",
    "\n",
    "# 각 클래스에서 가장 가까운 이웃 찾기\n",
    "in_domain_distances, in_domain_indices = find_nearest_neighbor(query_embedding, in_domain_index)\n",
    "ood_distances, ood_indices = find_nearest_neighbor(query_embedding, ood_index)\n",
    "\n",
    "# 둘 중에서 더 가까운 클래스 판단 및 출력\n",
    "if in_domain_distances[0][0] < ood_distances[0][0]:\n",
    "    print(\"이 쿼리는 in-domain에 더 가깝습니다.\")\n",
    "else:\n",
    "    print(\"이 쿼리는 out-of-domain에 더 가깝습니다.\")"
   ]
  },
  {
   "cell_type": "code",
   "execution_count": 76,
   "id": "03d9c0b0-38b4-42bd-8563-08543177de37",
   "metadata": {},
   "outputs": [
    {
     "name": "stdout",
     "output_type": "stream",
     "text": [
      " 짜장면 배달되나요?\n"
     ]
    },
    {
     "name": "stdout",
     "output_type": "stream",
     "text": [
      "이 쿼리는 in-domain에 더 가깝습니다. 코사인 유사성 점수: 0.9420\n"
     ]
    },
    {
     "name": "stdout",
     "output_type": "stream",
     "text": [
      " \n"
     ]
    }
   ],
   "source": [
    "from sentence_transformers import util\n",
    "import torch\n",
    "\n",
    "def find_most_similar(query_embedding, corpus_embeddings):\n",
    "    # 코사인 유사성 계산\n",
    "    cos_scores = util.cos_sim(query_embedding, corpus_embeddings)\n",
    "    \n",
    "    # 가장 높은 유사성 점수를 가진 이웃 찾기\n",
    "    top_results = torch.topk(cos_scores, k=1)\n",
    "    return top_results.values, top_results.indices\n",
    "\n",
    "def get_query_embedding(query):\n",
    "    query_embedding = model.encode([query])[0]  # 쿼리를 임베딩하고, 결과를 2차원 배열에서 1차원 배열로 변환\n",
    "    return query_embedding.reshape(1, -1)  # 임베딩을 2차원 배열로 변환\n",
    "\n",
    "while True:\n",
    "    # 쿼리\n",
    "    query = input()\n",
    "    if query == \"\":\n",
    "        break\n",
    "    query_embedding = get_query_embedding(query)\n",
    "    \n",
    "    # 각 클래스에서 가장 가까운 이웃 찾기\n",
    "    in_domain_scores, in_domain_indices = find_most_similar(query_embedding, in_domain_embeddings)\n",
    "    ood_scores, ood_indices = find_most_similar(query_embedding, ood_embeddings)\n",
    "    \n",
    "    # 둘 중에서 더 가까운 클래스 판단 및 출력\n",
    "    if in_domain_scores[0].item() > ood_scores[0].item():  # 코사인 유사성은 높을수록 가깝다는 것을 의미하므로, '>' 연산자를 사용\n",
    "        print(\"이 쿼리는 in-domain에 더 가깝습니다. 코사인 유사성 점수: {:.4f}\".format(in_domain_scores[0].item()))\n",
    "    else:\n",
    "        print(\"이 쿼리는 out-of-domain에 더 가깝습니다. 코사인 유사성 점수: {:.4f}\".format(ood_scores[0].item()))\n"
   ]
  },
  {
   "cell_type": "code",
   "execution_count": null,
   "id": "1b92d906-9e6e-49df-a81e-61effd0a302d",
   "metadata": {},
   "outputs": [],
   "source": []
  },
  {
   "cell_type": "code",
   "execution_count": null,
   "id": "9d6a7351-6b20-49b9-b2b6-bd65f1e6bd04",
   "metadata": {},
   "outputs": [],
   "source": []
  },
  {
   "cell_type": "code",
   "execution_count": null,
   "id": "d180b903-e2e8-40ca-b455-ce4a852be223",
   "metadata": {},
   "outputs": [],
   "source": []
  },
  {
   "cell_type": "code",
   "execution_count": null,
   "id": "96ae561a-eed9-4c38-ac2c-f7bb312f1cac",
   "metadata": {},
   "outputs": [],
   "source": []
  },
  {
   "cell_type": "code",
   "execution_count": null,
   "id": "0ea37a8c-5ea8-4c0f-97eb-84a53085675a",
   "metadata": {},
   "outputs": [],
   "source": []
  },
  {
   "cell_type": "code",
   "execution_count": null,
   "id": "c2a0014f-7936-412b-8a40-8811f8764f6c",
   "metadata": {},
   "outputs": [],
   "source": []
  },
  {
   "cell_type": "code",
   "execution_count": null,
   "id": "1f622d8b-f40c-4a6f-a55c-6cab6dcbd7ab",
   "metadata": {},
   "outputs": [],
   "source": []
  },
  {
   "cell_type": "code",
   "execution_count": null,
   "id": "f0ad84b0-ba11-46ca-b0b3-3c2c3b41a28a",
   "metadata": {},
   "outputs": [],
   "source": []
  },
  {
   "cell_type": "code",
   "execution_count": null,
   "id": "c44960a2-38cd-418a-bb15-488b6e236269",
   "metadata": {},
   "outputs": [],
   "source": []
  },
  {
   "cell_type": "code",
   "execution_count": null,
   "id": "ebb4eeb6-4675-449e-b98d-a6dbec959f1c",
   "metadata": {},
   "outputs": [],
   "source": []
  },
  {
   "cell_type": "code",
   "execution_count": null,
   "id": "43e4f0ae-c179-45ed-9ed0-c06464635629",
   "metadata": {},
   "outputs": [],
   "source": []
  },
  {
   "cell_type": "code",
   "execution_count": null,
   "id": "f1b06b3b-fc8c-4e5b-b004-30d96ff5c842",
   "metadata": {},
   "outputs": [],
   "source": []
  },
  {
   "cell_type": "code",
   "execution_count": null,
   "id": "d930a40e-731d-46b2-8f06-39078ce54f87",
   "metadata": {},
   "outputs": [],
   "source": []
  },
  {
   "cell_type": "code",
   "execution_count": null,
   "id": "46887cf5-4b4a-4356-a77e-1add869b626a",
   "metadata": {},
   "outputs": [],
   "source": []
  },
  {
   "cell_type": "code",
   "execution_count": null,
   "id": "21e643ec-fc0c-4617-b97a-f9b43422fb0b",
   "metadata": {},
   "outputs": [],
   "source": []
  },
  {
   "cell_type": "code",
   "execution_count": null,
   "id": "29d97b71-c680-4a5b-8bf0-7c3f90530e8e",
   "metadata": {},
   "outputs": [],
   "source": []
  },
  {
   "cell_type": "code",
   "execution_count": null,
   "id": "2967a98a-0e73-4b46-9ec5-099088eb8a46",
   "metadata": {},
   "outputs": [],
   "source": []
  },
  {
   "cell_type": "code",
   "execution_count": null,
   "id": "d706c972-b7a7-4613-b5e0-a146c10f5ea6",
   "metadata": {},
   "outputs": [],
   "source": []
  },
  {
   "cell_type": "code",
   "execution_count": null,
   "id": "9f2e8268-c8b0-4713-9d00-a81a346d384e",
   "metadata": {},
   "outputs": [],
   "source": []
  },
  {
   "cell_type": "code",
   "execution_count": null,
   "id": "805b3c74-546c-478e-be59-b998bd4db7d8",
   "metadata": {},
   "outputs": [],
   "source": []
  },
  {
   "cell_type": "code",
   "execution_count": null,
   "id": "ae017ffa-7180-457a-b4b6-41c79934cc98",
   "metadata": {},
   "outputs": [],
   "source": []
  },
  {
   "cell_type": "code",
   "execution_count": null,
   "id": "21fb1829-c0dd-4d00-918c-d58feca04e52",
   "metadata": {},
   "outputs": [],
   "source": []
  },
  {
   "cell_type": "code",
   "execution_count": null,
   "id": "8b38f5a0-0528-4f3b-8d2d-ddcdf97633a5",
   "metadata": {},
   "outputs": [],
   "source": []
  },
  {
   "cell_type": "code",
   "execution_count": null,
   "id": "f36d99eb-134c-4c5b-98f6-2b9f8bdc9dde",
   "metadata": {},
   "outputs": [],
   "source": []
  },
  {
   "cell_type": "code",
   "execution_count": null,
   "id": "5c9eb769-574b-4f24-bf3c-3d800517f5cd",
   "metadata": {},
   "outputs": [],
   "source": []
  },
  {
   "cell_type": "code",
   "execution_count": null,
   "id": "bde48449-45cc-42ee-9047-42e7aaba2468",
   "metadata": {},
   "outputs": [],
   "source": []
  },
  {
   "cell_type": "code",
   "execution_count": 62,
   "id": "91328871-f258-44ab-af0c-94697e496928",
   "metadata": {},
   "outputs": [],
   "source": [
    "import numpy as np\n",
    "\n",
    "d = 64\n",
    "nb = 100\n",
    "nq = 10\n",
    "np.random.seed(1234)\n",
    "xb = np.random.random((nb, d)).astype(\"float32\")\n",
    "xb[:, 0] += np.arange(nb) / 1000.\n",
    "xq = np.random.random((nq, d)).astype(\"float32\")\n",
    "xq[:, 0] += np.arange(nq) / 1000."
   ]
  },
  {
   "cell_type": "code",
   "execution_count": null,
   "id": "f5b495a8-83bd-4cf2-afef-01e371b445da",
   "metadata": {},
   "outputs": [],
   "source": [
    "import faiss\n",
    "index = faiss.IndexFlatL2(d)\n",
    "print(index.is_trained)\n",
    "index.add(xb)\n",
    "\n",
    "k = 4\n",
    "D, I =index.search(xq, k)\n",
    "print(I[:5])\n",
    "print(I[-5:])"
   ]
  },
  {
   "cell_type": "code",
   "execution_count": null,
   "id": "a5ad975f-a2f5-4ff4-8b4e-9c1b5eced50c",
   "metadata": {},
   "outputs": [],
   "source": []
  }
 ],
 "metadata": {
  "kernelspec": {
   "display_name": "hg",
   "language": "python",
   "name": "hg"
  },
  "language_info": {
   "codemirror_mode": {
    "name": "ipython",
    "version": 3
   },
   "file_extension": ".py",
   "mimetype": "text/x-python",
   "name": "python",
   "nbconvert_exporter": "python",
   "pygments_lexer": "ipython3",
   "version": "3.10.12"
  }
 },
 "nbformat": 4,
 "nbformat_minor": 5
}
